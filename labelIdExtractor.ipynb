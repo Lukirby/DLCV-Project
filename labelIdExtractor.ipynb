{
 "cells": [
  {
   "cell_type": "code",
   "execution_count": null,
   "id": "91ffd8f7",
   "metadata": {},
   "outputs": [],
   "source": [
    "import os\n",
    "import numpy as np\n",
    "from PIL import Image\n",
    "from cityscapesscripts.helpers.labels import labels"
   ]
  },
  {
   "cell_type": "code",
   "execution_count": null,
   "id": "10b9a5ef",
   "metadata": {},
   "outputs": [],
   "source": [
    "COLOR_TO_TRAINID = {label.color: label.trainId for label in labels if label.trainId != 255}"
   ]
  },
  {
   "cell_type": "code",
   "execution_count": null,
   "id": "dac61f1c",
   "metadata": {},
   "outputs": [],
   "source": [
    "# Mappa colore RGB → trainId\n",
    "COLOR_TO_TRAINID = {label.color: label.trainId for label in labels}\n",
    "DEFAULT_TRAINID = 255  # per classi non definite\n",
    "\n",
    "def rgb_mask_to_trainId(img: Image.Image) -> Image.Image:\n",
    "    arr = np.array(img)\n",
    "    h, w, _ = arr.shape\n",
    "    train_id_mask = np.ones((h, w), dtype=np.uint8) * DEFAULT_TRAINID\n",
    "\n",
    "    for color, train_id in COLOR_TO_TRAINID.items():\n",
    "        matches = np.all(arr == color, axis=-1)\n",
    "        train_id_mask[matches] = train_id\n",
    "\n",
    "    return Image.fromarray(train_id_mask)\n"
   ]
  },
  {
   "cell_type": "code",
   "execution_count": null,
   "id": "25d20327",
   "metadata": {},
   "outputs": [],
   "source": [
    "in_dir = \"/path/to/gtav/segmentation_color\"\n",
    "out_dir = \"/path/to/gtav/segmentation_trainIds\"\n",
    "os.makedirs(out_dir, exist_ok=True)\n",
    "\n",
    "for filename in os.listdir(in_dir):\n",
    "    if filename.endswith(\".png\"):\n",
    "        path = os.path.join(in_dir, filename)\n",
    "        img = Image.open(path).convert(\"RGB\")\n",
    "        mask = rgb_mask_to_trainId(img)\n",
    "        mask.save(os.path.join(out_dir, filename.replace(\".png\", \"_trainId.png\")))"
   ]
  }
 ],
 "metadata": {
  "kernelspec": {
   "display_name": ".venv",
   "language": "python",
   "name": "python3"
  },
  "language_info": {
   "name": "python",
   "version": "3.12.4"
  }
 },
 "nbformat": 4,
 "nbformat_minor": 5
}
