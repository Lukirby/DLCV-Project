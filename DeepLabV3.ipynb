{
 "cells": [
  {
   "cell_type": "markdown",
   "id": "69ca53e3",
   "metadata": {},
   "source": [
    "# DeepLabV3 Model"
   ]
  },
  {
   "cell_type": "code",
   "execution_count": 1,
   "id": "29efe8c4",
   "metadata": {},
   "outputs": [],
   "source": [
    "import torch\n",
    "import torch.nn as nn\n",
    "import torch.optim as optim\n",
    "from torchvision.models.segmentation import deeplabv3_resnet50, DeepLabV3_ResNet50_Weights"
   ]
  },
  {
   "cell_type": "code",
   "execution_count": null,
   "id": "6b79a84d",
   "metadata": {},
   "outputs": [],
   "source": [
    "\n",
    "NUM_CLASSES = 19  # Cityscapes\n",
    "DEVICE = 'cuda' if torch.cuda.is_available() else 'cpu'\n",
    "LR = 1e-4\n",
    "WEIGHTS = DeepLabV3_ResNet50_Weights.COCO_WITH_VOC_LABELS_V1\n",
    "\n",
    "model = deeplabv3_resnet50(weights=WEIGHTS)\n",
    "model.classifier[4] = nn.Conv2d(256, NUM_CLASSES, kernel_size=1)\n",
    "model.to(DEVICE)\n",
    "\n",
    "criterion = nn.CrossEntropyLoss(ignore_index=255)  # 255 = unlabeled\n",
    "\n",
    "optimizer = optim.Adam(model.parameters(), lr=LR)\n",
    "\n",
    "def compute_iou(preds, labels, num_classes):\n",
    "    preds = torch.argmax(preds, dim=1)\n",
    "    ious = []\n",
    "    for cls in range(num_classes):\n",
    "        pred_inds = (preds == cls)\n",
    "        target_inds = (labels == cls)\n",
    "        intersection = (pred_inds & target_inds).sum().item()\n",
    "        union = (pred_inds | target_inds).sum().item()\n",
    "        if union == 0:\n",
    "            ious.append(float('nan'))  # ignore class with no pixels\n",
    "        else:\n",
    "            ious.append(intersection / union)\n",
    "    return sum([iou for iou in ious if not torch.isnan(torch.tensor(iou))]) / len(ious)\n",
    "\n",
    "def train_one_epoch(model, dataloader, optimizer, criterion):\n",
    "    model.train()\n",
    "    total_loss = 0\n",
    "    total_iou = 0\n",
    "    for images, masks in dataloader:\n",
    "        images = images.to(DEVICE)\n",
    "        masks = masks.to(DEVICE)\n",
    "\n",
    "        optimizer.zero_grad()\n",
    "        outputs = model(images)['out']\n",
    "        loss = criterion(outputs, masks)\n",
    "        loss.backward()\n",
    "        optimizer.step()\n",
    "\n",
    "        total_loss += loss.item()\n",
    "        total_iou += compute_iou(outputs.detach(), masks, NUM_CLASSES)\n",
    "\n",
    "    avg_loss = total_loss / len(dataloader)\n",
    "    avg_iou = total_iou / len(dataloader)\n",
    "    print(f\"Loss: {avg_loss:.4f} | IoU: {avg_iou:.4f}\")\n",
    "    return avg_loss, avg_iou\n"
   ]
  }
 ],
 "metadata": {
  "kernelspec": {
   "display_name": ".venv",
   "language": "python",
   "name": "python3"
  },
  "language_info": {
   "codemirror_mode": {
    "name": "ipython",
    "version": 3
   },
   "file_extension": ".py",
   "mimetype": "text/x-python",
   "name": "python",
   "nbconvert_exporter": "python",
   "pygments_lexer": "ipython3",
   "version": "3.12.4"
  }
 },
 "nbformat": 4,
 "nbformat_minor": 5
}
